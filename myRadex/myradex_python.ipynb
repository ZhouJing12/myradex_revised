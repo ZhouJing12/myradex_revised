{
 "cells": [
  {
   "cell_type": "code",
   "execution_count": 1,
   "id": "0b9fc93a-99fb-4e79-a9c4-2cb6ebe39794",
   "metadata": {},
   "outputs": [
    {
     "data": {
      "text/plain": [
       "(2, 27, 820)"
      ]
     },
     "execution_count": 1,
     "metadata": {},
     "output_type": "execute_result"
    }
   ],
   "source": [
    "import re\n",
    "import numpy as np\n",
    "from wrapper_my_radex import myradex_wrapper as wrapper \n",
    "phy_c_cgs=299792458e2\n",
    "phy_c_SI=299792458\n",
    "phy_k_cgs=1.3806503e-16\n",
    "phy_h_cgs=6.62606896e-27\n",
    "phy_cm2erg=phy_h_cgs*phy_c_cgs\n",
    "phy_cm2K=phy_cm2erg/phy_k_cgs\n",
    "class colli_partner:\n",
    "    def __init__(self,part_name):\n",
    "        self.name=part_name\n",
    "    def set_n_trans(self,n_trans):\n",
    "        self.n_transitions=n_trans\n",
    "    def set_n_T(self,n_T):\n",
    "        self.n_T=n_T\n",
    "    def set_colli_temp(self,col_temp):\n",
    "        self.colli_temperature=col_temp\n",
    "    def set_Cul(self,Cul):\n",
    "        self.Cul=Cul\n",
    "class mol_data:\n",
    "    def __init__(self,mol_dir,mol_file):\n",
    "        self.mol_dir=mol_dir\n",
    "        self.mol_file=mol_file\n",
    "        f=open(self.mol_dir+self.mol_file)\n",
    "        file_list=re.split('\\n',f.read())\n",
    "        f.close()\n",
    "        if_read=True\n",
    "        self.mol_name=re.split(' ',file_list[1])\n",
    "        self.n_level=int(file_list[5])\n",
    "        self.level_energy=np.zeros(self.n_level)\n",
    "        self.level_weight=np.zeros(self.n_level)\n",
    "        nrow=7\n",
    "        for i in range(self.n_level):\n",
    "            line=re.split(' |\\t',file_list[nrow+i])\n",
    "            line=[item for item in line if item!='']\n",
    "            self.level_energy[i]=float(line[1])*phy_cm2K\n",
    "            self.level_weight[i]=float(line[2])\n",
    "        nrow+=self.n_level+1\n",
    "        self.n_transitions=int(file_list[nrow])\n",
    "        nrow+=2\n",
    "        self.rad_data=np.zeros([self.n_transitions,9]) # iup, ilow, Aul, freq, lambda, Eup, Elow, Bul, Blu\n",
    "        for i in range(self.n_transitions):\n",
    "            line=re.split(' |\\t',file_list[nrow+i])\n",
    "            line=[item for item in line if item!='']\n",
    "            iu=int(line[1])\n",
    "            il=int(line[2])\n",
    "            self.rad_data[i,0]=iu\n",
    "            self.rad_data[i,1]=il\n",
    "            self.rad_data[i,2]=float(line[3])\n",
    "            self.rad_data[i,3]=phy_c_cgs*(self.level_energy[iu-1]-self.level_energy[il-1])/phy_cm2K\n",
    "            self.rad_data[i,4]=phy_c_SI/self.rad_data[i,3]*1e6  # micron\n",
    "            self.rad_data[i,5]=self.level_energy[iu-1]\n",
    "            self.rad_data[i,6]=self.level_energy[il-1]\n",
    "            self.rad_data[i,7]=self.rad_data[i,2]/((2*phy_h_cgs/phy_c_cgs**2)*self.rad_data[i,3]**3)\n",
    "            self.rad_data[i,8]=self.rad_data[i,7]*self.level_weight[iu-1]/self.level_weight[il-1]\n",
    "        nrow+=self.n_transitions+1\n",
    "        self.n_partner=int(file_list[nrow])\n",
    "        nrow+=2\n",
    "        self.colli_data={}\n",
    "        for i in range(self.n_partner):\n",
    "            line=re.split(' |-|\\t|\\+|:',file_list[nrow])\n",
    "            line=[item for item in line if item!='']\n",
    "            part_name=line[2]\n",
    "            if part_name=='electron':\n",
    "                part_name='e'\n",
    "            elif part_name=='with':\n",
    "                part_name=line[3]\n",
    "            partner=colli_partner(part_name)\n",
    "            partner.set_n_trans(int(file_list[nrow+2]))\n",
    "            partner.set_n_T(int(file_list[nrow+4]))\n",
    "            line=re.split(' |\\t',file_list[nrow+6])\n",
    "            line=np.array([item for item in line if item!=''])\n",
    "            partner.set_colli_temp(line.astype(float))\n",
    "            Cul=np.zeros([partner.n_transitions,partner.n_T+2])\n",
    "            for j in range(partner.n_transitions):\n",
    "                line=re.split(' |\\t',file_list[nrow+8+j])\n",
    "                line=np.array([item for item in line if item!=''])\n",
    "                Cul[j]=line[1:].astype(float)\n",
    "            partner.set_Cul(Cul.T)\n",
    "            self.colli_data[part_name]=partner\n",
    "            nrow+=9+partner.n_transitions\n",
    "        self.data_shape=[self.n_level,self.n_transitions,self.n_partner]\n",
    "        self.partner_names=list(self.colli_data.keys())\n",
    "        self.colli_shape=[[self.colli_data[key].n_transitions,self.colli_data[key].n_T] for key in self.colli_data.keys()]\n",
    "        self.level_data=np.concatenate([[self.level_energy],[self.level_weight]],axis=0).T\n",
    "        colli_T=np.zeros([self.n_partner,max([self.colli_data[key].n_T for key in self.partner_names])])\n",
    "        colli_Cul=np.zeros([self.n_partner,max([self.colli_data[key].n_T for key in self.partner_names])+2,max([self.colli_data[key].n_transitions for key in self.partner_names])])\n",
    "        for i in range(self.n_partner):\n",
    "            partner_name=self.partner_names[i]\n",
    "            colli_T[i,:self.colli_data[partner_name].n_T]=self.colli_data[partner_name].colli_temperature\n",
    "            colli_Cul[i,:self.colli_data[partner_name].n_T+2,:self.colli_data[partner_name].n_transitions]=self.colli_data[partner_name].Cul\n",
    "        self.colli_T=colli_T\n",
    "        self.colli_Cul=colli_Cul\n",
    "        space=' '\n",
    "        self.part_name_str=space.join(self.partner_names)\n",
    "co_mol=mol_data('/home/zj/Documents/radex_mol/','co.dat')\n",
    "hcn_mol=mol_data('/home/zj/Documents/radex_mol/','hcn.dat')\n",
    "co_mol.colli_Cul.shape"
   ]
  },
  {
   "cell_type": "code",
   "execution_count": 2,
   "id": "dd8c6744-8478-4192-84e6-62c539081c0c",
   "metadata": {},
   "outputs": [
    {
     "name": "stdout",
     "output_type": "stream",
     "text": [
      "0.005406379699707031 s\n",
      "[7.7641003e-02 1.9872974e-01 2.4162064e-01 2.1080433e-01 1.4424445e-01\n",
      " 7.9826087e-02 3.5382450e-02 1.0456235e-02 1.2497709e-03 4.2498945e-05\n",
      " 2.5891943e-06 1.9247861e-07 1.3209565e-08 7.8054269e-10 3.9409628e-11\n",
      " 1.7112094e-12 6.3230427e-14 2.0150573e-15 5.3144141e-17 1.6604220e-18\n",
      " 3.4202086e-20 6.0231017e-22 9.0308205e-24 1.1352252e-25 1.2225596e-27\n",
      " 1.1022741e-29 8.7589799e-32 6.3857440e-34 3.6859966e-36 1.7534230e-38\n",
      " 7.7389510e-41 2.8726619e-43 1.4012985e-45 0.0000000e+00 0.0000000e+00\n",
      " 0.0000000e+00 0.0000000e+00 0.0000000e+00 0.0000000e+00 0.0000000e+00]\n"
     ]
    }
   ],
   "source": [
    "def run_myradex(Tkin,NXcol,nH2,Tbg,molecule,ini_occ=[]):\n",
    "    if len(ini_occ)==0:\n",
    "        ini_occ=molecule.level_weight*np.exp(-molecule.level_energy/Tkin)\n",
    "        ini_occ=ini_occ/sum(ini_occ)\n",
    "    params = {'tkin': Tkin,\n",
    "              'ncol_x_cgs': NXcol,\n",
    "              'h2_density_cgs': nH2,\n",
    "              'tbg':Tbg,\n",
    "              'mol_name':molecule.mol_name[0],\n",
    "              'data_shape':molecule.data_shape,\n",
    "              'n_transition':molecule.data_shape[1],\n",
    "              'partner_names':molecule.part_name_str,\n",
    "              'colli_shape':molecule.colli_shape,\n",
    "              'level_data':molecule.level_data,\n",
    "              'rad_data':molecule.rad_data,\n",
    "              'colli_t':molecule.colli_T,\n",
    "              'colli_data':molecule.colli_Cul,\n",
    "              'ini_occ':ini_occ}      #initial occupation\n",
    "    Tb=wrapper.run_one_params(**params)\n",
    "    return Tb\n",
    "import time\n",
    "start=time.time()\n",
    "for i in range(1):\n",
    "    Tb,f_occ=run_myradex(35,1e18,1e4,2.73,co_mol)\n",
    "print(time.time()-start,'s')\n",
    "print(f_occ)"
   ]
  },
  {
   "cell_type": "code",
   "execution_count": 3,
   "id": "7db6f004-03fb-4627-af1b-cb0070d04d50",
   "metadata": {},
   "outputs": [
    {
     "name": "stdout",
     "output_type": "stream",
     "text": [
      "0.0016589164733886719 s\n",
      "[7.81394541e-02 1.99904814e-01 2.42801353e-01 2.11357653e-01\n",
      " 1.43921211e-01 7.88147748e-02 3.41723710e-02 9.73354559e-03\n",
      " 1.11408369e-03 3.81419341e-05 2.41592602e-06 1.79924427e-07\n",
      " 1.23565371e-08 7.27779059e-10 3.68161196e-11 1.59238757e-12\n",
      " 5.89377654e-14 1.87443203e-15 4.94277077e-17 1.54742425e-18\n",
      " 3.18748976e-20 5.61013188e-22 8.40910027e-24 1.05674143e-25\n",
      " 1.13765404e-27 1.02551376e-29 8.14688174e-32 5.93815527e-34\n",
      " 3.42713642e-36 1.63011341e-38 7.19370580e-41 2.67648007e-43\n",
      " 1.40129846e-45 0.00000000e+00 0.00000000e+00 0.00000000e+00\n",
      " 0.00000000e+00 0.00000000e+00 0.00000000e+00 0.00000000e+00]\n"
     ]
    }
   ],
   "source": [
    "start=time.time()\n",
    "for i in range(1):\n",
    "    Tb,f_occ=run_myradex(35,1e18,1e4,2.73,co_mol,f_occ)\n",
    "print(time.time()-start,'s')\n",
    "print(f_occ)"
   ]
  },
  {
   "cell_type": "code",
   "execution_count": null,
   "id": "87774548-b86e-4d34-b92b-ecc4c949910c",
   "metadata": {},
   "outputs": [],
   "source": []
  }
 ],
 "metadata": {
  "kernelspec": {
   "display_name": "Python 3",
   "language": "python",
   "name": "python3"
  },
  "language_info": {
   "codemirror_mode": {
    "name": "ipython",
    "version": 3
   },
   "file_extension": ".py",
   "mimetype": "text/x-python",
   "name": "python",
   "nbconvert_exporter": "python",
   "pygments_lexer": "ipython3",
   "version": "3.8.10"
  }
 },
 "nbformat": 4,
 "nbformat_minor": 5
}
